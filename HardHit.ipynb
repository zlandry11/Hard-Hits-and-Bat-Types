{
 "cells": [
  {
   "cell_type": "markdown",
   "id": "1700f763-5667-469a-b5d0-490df440fde7",
   "metadata": {},
   "source": [
    "# Bat Type and Hard Hit Rate, Zach Landry\n",
    "\n",
    "Goal: Explore the data set and determine whether an adjustment is necessary to make the wood and metal bat data more directly comparable. In addition, we want to know if applying an adjustment to the data effectively strengthens the relationship between amateur and pro hard-hit rate."
   ]
  },
  {
   "cell_type": "markdown",
   "id": "b179a2da-0577-4900-be99-136bd81d4b0d",
   "metadata": {},
   "source": [
    "## Initial Data Exploration and Preprocessing\n",
    "\n",
    "First, we will load the necessary libraries to read the CSV file and examine the dataset, taking note of its shape and key features. "
   ]
  },
  {
   "cell_type": "code",
   "execution_count": 1,
   "id": "610aabe2-ae33-4344-b2a0-5203dc8854f0",
   "metadata": {
    "tags": []
   },
   "outputs": [
    {
     "data": {
      "text/plain": [
       "(38190, 20)"
      ]
     },
     "execution_count": 1,
     "metadata": {},
     "output_type": "execute_result"
    }
   ],
   "source": [
    "# Import pandas library\n",
    "import pandas as pd\n",
    "\n",
    "# Read CSV data\n",
    "df = pd.read_csv('NCAA_Hard_Hit_Data.csv')\n",
    "\n",
    "df.shape"
   ]
  },
  {
   "cell_type": "code",
   "execution_count": 2,
   "id": "e6667cfd-80a2-4310-953e-4159791a26a0",
   "metadata": {
    "tags": []
   },
   "outputs": [
    {
     "name": "stdout",
     "output_type": "stream",
     "text": [
      "<class 'pandas.core.frame.DataFrame'>\n",
      "RangeIndex: 38190 entries, 0 to 38189\n",
      "Data columns (total 20 columns):\n",
      " #   Column            Non-Null Count  Dtype  \n",
      "---  ------            --------------  -----  \n",
      " 0   Unnamed: 0        38190 non-null  int64  \n",
      " 1   id                38190 non-null  int64  \n",
      " 2   batter_id         38190 non-null  int64  \n",
      " 3   ama_start_year    38190 non-null  int64  \n",
      " 4   ama_end_year      38190 non-null  int64  \n",
      " 5   ama_pa            38190 non-null  int64  \n",
      " 6   ama_bip           38190 non-null  int64  \n",
      " 7   ama_hard_hit      35984 non-null  float64\n",
      " 8   ama_chase_perc    37750 non-null  float64\n",
      " 9   ama_sm_perc       37899 non-null  float64\n",
      " 10  ama_exit_speed    35746 non-null  float64\n",
      " 11  ama_launch_angle  35746 non-null  float64\n",
      " 12  ama_gb_perc       35967 non-null  float64\n",
      " 13  ama_fb_perc       35967 non-null  float64\n",
      " 14  ama_ld_perc       35967 non-null  float64\n",
      " 15  ama_oppo_perc     35967 non-null  float64\n",
      " 16  ama_bat_type      38190 non-null  object \n",
      " 17  pro_pa            2592 non-null   float64\n",
      " 18  pro_bip           2592 non-null   float64\n",
      " 19  pro_hard_hit      2582 non-null   float64\n",
      "dtypes: float64(12), int64(7), object(1)\n",
      "memory usage: 5.8+ MB\n"
     ]
    }
   ],
   "source": [
    "# Explore dataset features\n",
    "df.info()"
   ]
  },
  {
   "cell_type": "markdown",
   "id": "43beb55b-9066-4d3e-b521-05de8022f050",
   "metadata": {},
   "source": [
    "The dataset has 38,190 rows and 20 columns covering both amateur and some professional metrics, including the following variables of interest:\n",
    "- `batter_id`: Unique batter ID\n",
    "- `ama_hard_hit`: Amateur hard-hit rate\n",
    "- `ama_bat_type`: Amateur bat type (metal vs. wood)\n",
    "- `pro_hard_hit`: Professional hard-hit rate\n",
    "\n",
    "These features, along with `ama_start_year`, `ama_end_year`, `ama_pa`, `ama_bip`, `pro_pa`, and `pro_bip`, are kept while the remaining columns are removed to reduce the dataset's dimensionality. "
   ]
  },
  {
   "cell_type": "code",
   "execution_count": 3,
   "id": "1f9c8844-4583-4626-900b-3bca5b30c7ea",
   "metadata": {
    "tags": []
   },
   "outputs": [
    {
     "data": {
      "text/html": [
       "<div>\n",
       "<style scoped>\n",
       "    .dataframe tbody tr th:only-of-type {\n",
       "        vertical-align: middle;\n",
       "    }\n",
       "\n",
       "    .dataframe tbody tr th {\n",
       "        vertical-align: top;\n",
       "    }\n",
       "\n",
       "    .dataframe thead th {\n",
       "        text-align: right;\n",
       "    }\n",
       "</style>\n",
       "<table border=\"1\" class=\"dataframe\">\n",
       "  <thead>\n",
       "    <tr style=\"text-align: right;\">\n",
       "      <th></th>\n",
       "      <th>batter_id</th>\n",
       "      <th>ama_start_year</th>\n",
       "      <th>ama_end_year</th>\n",
       "      <th>ama_pa</th>\n",
       "      <th>ama_bip</th>\n",
       "      <th>ama_hard_hit</th>\n",
       "      <th>ama_bat_type</th>\n",
       "      <th>pro_pa</th>\n",
       "      <th>pro_bip</th>\n",
       "      <th>pro_hard_hit</th>\n",
       "    </tr>\n",
       "  </thead>\n",
       "  <tbody>\n",
       "    <tr>\n",
       "      <th>0</th>\n",
       "      <td>17</td>\n",
       "      <td>2015</td>\n",
       "      <td>2015</td>\n",
       "      <td>1</td>\n",
       "      <td>1</td>\n",
       "      <td>0.009492</td>\n",
       "      <td>Metal</td>\n",
       "      <td>NaN</td>\n",
       "      <td>NaN</td>\n",
       "      <td>NaN</td>\n",
       "    </tr>\n",
       "    <tr>\n",
       "      <th>1</th>\n",
       "      <td>228</td>\n",
       "      <td>2015</td>\n",
       "      <td>2015</td>\n",
       "      <td>40</td>\n",
       "      <td>29</td>\n",
       "      <td>0.281799</td>\n",
       "      <td>Metal</td>\n",
       "      <td>419.0</td>\n",
       "      <td>262.0</td>\n",
       "      <td>0.147152</td>\n",
       "    </tr>\n",
       "    <tr>\n",
       "      <th>2</th>\n",
       "      <td>242</td>\n",
       "      <td>2015</td>\n",
       "      <td>2015</td>\n",
       "      <td>27</td>\n",
       "      <td>17</td>\n",
       "      <td>0.165749</td>\n",
       "      <td>Metal</td>\n",
       "      <td>NaN</td>\n",
       "      <td>NaN</td>\n",
       "      <td>NaN</td>\n",
       "    </tr>\n",
       "    <tr>\n",
       "      <th>3</th>\n",
       "      <td>249</td>\n",
       "      <td>2015</td>\n",
       "      <td>2015</td>\n",
       "      <td>2</td>\n",
       "      <td>2</td>\n",
       "      <td>0.032220</td>\n",
       "      <td>Metal</td>\n",
       "      <td>NaN</td>\n",
       "      <td>NaN</td>\n",
       "      <td>NaN</td>\n",
       "    </tr>\n",
       "    <tr>\n",
       "      <th>4</th>\n",
       "      <td>338</td>\n",
       "      <td>2015</td>\n",
       "      <td>2015</td>\n",
       "      <td>2</td>\n",
       "      <td>1</td>\n",
       "      <td>0.071142</td>\n",
       "      <td>Metal</td>\n",
       "      <td>NaN</td>\n",
       "      <td>NaN</td>\n",
       "      <td>NaN</td>\n",
       "    </tr>\n",
       "  </tbody>\n",
       "</table>\n",
       "</div>"
      ],
      "text/plain": [
       "   batter_id  ama_start_year  ama_end_year  ama_pa  ama_bip  ama_hard_hit  \\\n",
       "0         17            2015          2015       1        1      0.009492   \n",
       "1        228            2015          2015      40       29      0.281799   \n",
       "2        242            2015          2015      27       17      0.165749   \n",
       "3        249            2015          2015       2        2      0.032220   \n",
       "4        338            2015          2015       2        1      0.071142   \n",
       "\n",
       "  ama_bat_type  pro_pa  pro_bip  pro_hard_hit  \n",
       "0        Metal     NaN      NaN           NaN  \n",
       "1        Metal   419.0    262.0      0.147152  \n",
       "2        Metal     NaN      NaN           NaN  \n",
       "3        Metal     NaN      NaN           NaN  \n",
       "4        Metal     NaN      NaN           NaN  "
      ]
     },
     "execution_count": 3,
     "metadata": {},
     "output_type": "execute_result"
    }
   ],
   "source": [
    "# Make copy of original dataset before modifying\n",
    "original_df = df.copy()\n",
    "\n",
    "# Select relevant columns\n",
    "df = df[['batter_id', 'ama_start_year', 'ama_end_year', 'ama_pa', 'ama_bip', 'ama_hard_hit', 'ama_bat_type', 'pro_pa', 'pro_bip', 'pro_hard_hit']]\n",
    "df.head()"
   ]
  },
  {
   "cell_type": "markdown",
   "id": "241d67c1-bd57-451f-9739-a02b9cab9b26",
   "metadata": {},
   "source": [
    "Since we want to analyze the effects of metal versus wood bats, batters that only have metal bat data are removed, leaving a set of 7,549 unique hitters who have played either professionally and/or in the Cape Cod League (CCL). "
   ]
  },
  {
   "cell_type": "code",
   "execution_count": 4,
   "id": "96bc89ca-c1f9-4ce3-b824-acb96ebfc3a8",
   "metadata": {
    "tags": []
   },
   "outputs": [
    {
     "name": "stdout",
     "output_type": "stream",
     "text": [
      "Total Number of Hitters: 7549\n",
      "Number of Hitters who Played in CCL: 6942\n",
      "Number of Professional Hitters: 1613\n",
      "Number of Hitters who Played Both: 1006\n"
     ]
    }
   ],
   "source": [
    "# Filter hitters with both metal and wood bat data\n",
    "df_both = df[\n",
    "    (df['batter_id'].isin(df.groupby('batter_id')['ama_bat_type'].nunique()[lambda x: x > 1].index)) | \n",
    "    (df['pro_pa'] > 0)\n",
    "]\n",
    "\n",
    "total_hitters = df_both['batter_id'].nunique()\n",
    "hitters_in_CCL = df_both[df_both['ama_bat_type'] == 'Wood']['batter_id'].nunique()\n",
    "professional_hitters = df_both[df_both['pro_pa'] > 0]['batter_id'].nunique()\n",
    "hitters_in_both = df_both[(df_both['pro_pa'] > 0) & (df_both['ama_bat_type'] == 'Wood')]['batter_id'].nunique()\n",
    "\n",
    "print(f\"Total Number of Hitters: {total_hitters}\")\n",
    "print(f\"Number of Hitters who Played in CCL: {hitters_in_CCL}\")\n",
    "print(f\"Number of Professional Hitters: {professional_hitters}\")\n",
    "print(f\"Number of Hitters who Played Both: {hitters_in_both}\")"
   ]
  },
  {
   "cell_type": "markdown",
   "id": "9d96ee57-5124-4a30-b474-df6ee4efe578",
   "metadata": {},
   "source": [
    "We see that 6,942 played in the CCL, 1,613 played professionally, and 1,006 played both professionally and in the CCL. "
   ]
  },
  {
   "cell_type": "code",
   "execution_count": 5,
   "id": "fadb551d-c183-415a-9241-5a5e16eab629",
   "metadata": {
    "tags": []
   },
   "outputs": [
    {
     "data": {
      "text/html": [
       "<div>\n",
       "<style scoped>\n",
       "    .dataframe tbody tr th:only-of-type {\n",
       "        vertical-align: middle;\n",
       "    }\n",
       "\n",
       "    .dataframe tbody tr th {\n",
       "        vertical-align: top;\n",
       "    }\n",
       "\n",
       "    .dataframe thead th {\n",
       "        text-align: right;\n",
       "    }\n",
       "</style>\n",
       "<table border=\"1\" class=\"dataframe\">\n",
       "  <thead>\n",
       "    <tr style=\"text-align: right;\">\n",
       "      <th></th>\n",
       "      <th>batter_id</th>\n",
       "      <th>ama_start_year</th>\n",
       "      <th>ama_end_year</th>\n",
       "      <th>ama_pa</th>\n",
       "      <th>ama_bip</th>\n",
       "      <th>ama_hard_hit</th>\n",
       "      <th>ama_bat_type</th>\n",
       "      <th>pro_pa</th>\n",
       "      <th>pro_bip</th>\n",
       "      <th>pro_hard_hit</th>\n",
       "    </tr>\n",
       "  </thead>\n",
       "  <tbody>\n",
       "    <tr>\n",
       "      <th>1</th>\n",
       "      <td>228</td>\n",
       "      <td>2015</td>\n",
       "      <td>2015</td>\n",
       "      <td>40</td>\n",
       "      <td>29</td>\n",
       "      <td>0.281799</td>\n",
       "      <td>Metal</td>\n",
       "      <td>419.0</td>\n",
       "      <td>262.0</td>\n",
       "      <td>0.147152</td>\n",
       "    </tr>\n",
       "    <tr>\n",
       "      <th>5</th>\n",
       "      <td>359</td>\n",
       "      <td>2015</td>\n",
       "      <td>2015</td>\n",
       "      <td>22</td>\n",
       "      <td>19</td>\n",
       "      <td>0.266103</td>\n",
       "      <td>Metal</td>\n",
       "      <td>1049.0</td>\n",
       "      <td>761.0</td>\n",
       "      <td>0.187540</td>\n",
       "    </tr>\n",
       "    <tr>\n",
       "      <th>7</th>\n",
       "      <td>411</td>\n",
       "      <td>2015</td>\n",
       "      <td>2015</td>\n",
       "      <td>22</td>\n",
       "      <td>14</td>\n",
       "      <td>0.281852</td>\n",
       "      <td>Metal</td>\n",
       "      <td>151.0</td>\n",
       "      <td>97.0</td>\n",
       "      <td>0.172410</td>\n",
       "    </tr>\n",
       "    <tr>\n",
       "      <th>26</th>\n",
       "      <td>976</td>\n",
       "      <td>2015</td>\n",
       "      <td>2015</td>\n",
       "      <td>10</td>\n",
       "      <td>8</td>\n",
       "      <td>0.322708</td>\n",
       "      <td>Metal</td>\n",
       "      <td>2.0</td>\n",
       "      <td>0.0</td>\n",
       "      <td>NaN</td>\n",
       "    </tr>\n",
       "    <tr>\n",
       "      <th>33</th>\n",
       "      <td>1156</td>\n",
       "      <td>2015</td>\n",
       "      <td>2015</td>\n",
       "      <td>32</td>\n",
       "      <td>18</td>\n",
       "      <td>0.241979</td>\n",
       "      <td>Metal</td>\n",
       "      <td>1118.0</td>\n",
       "      <td>730.0</td>\n",
       "      <td>0.246540</td>\n",
       "    </tr>\n",
       "  </tbody>\n",
       "</table>\n",
       "</div>"
      ],
      "text/plain": [
       "    batter_id  ama_start_year  ama_end_year  ama_pa  ama_bip  ama_hard_hit  \\\n",
       "1         228            2015          2015      40       29      0.281799   \n",
       "5         359            2015          2015      22       19      0.266103   \n",
       "7         411            2015          2015      22       14      0.281852   \n",
       "26        976            2015          2015      10        8      0.322708   \n",
       "33       1156            2015          2015      32       18      0.241979   \n",
       "\n",
       "   ama_bat_type  pro_pa  pro_bip  pro_hard_hit  \n",
       "1         Metal   419.0    262.0      0.147152  \n",
       "5         Metal  1049.0    761.0      0.187540  \n",
       "7         Metal   151.0     97.0      0.172410  \n",
       "26        Metal     2.0      0.0           NaN  \n",
       "33        Metal  1118.0    730.0      0.246540  "
      ]
     },
     "execution_count": 5,
     "metadata": {},
     "output_type": "execute_result"
    }
   ],
   "source": [
    "df_both.head()"
   ]
  },
  {
   "cell_type": "markdown",
   "id": "0612f932-6ad7-4768-82cf-e9381566205e",
   "metadata": {},
   "source": [
    "Furthermore, it's evident that many of the batters have limited plate appearances and balls in play (BIP). Assuming that hard-hit rate stabilizes after 50 balls in play, only batters that exceed this threshold with both wood and metal bats are kept in the dataset. This is accomplished by calculating the number of BIP with both types of bats for each player and creating a list of `batter_id` that satisfy the minimum threshold. For the sake of the analysis, any batters with null values or outliers for `ama_hard_hit` are removed. "
   ]
  },
  {
   "cell_type": "code",
   "execution_count": 6,
   "id": "2d9fa1ea-61fc-403b-8d4d-7a9d85223966",
   "metadata": {
    "tags": []
   },
   "outputs": [
    {
     "name": "stdout",
     "output_type": "stream",
     "text": [
      "Batters with at least 50 BIP: 2157\n",
      "All values unique: True\n",
      "Number of batters after preprocessing: 2152\n"
     ]
    }
   ],
   "source": [
    "# Calculate balls in play (BIP) with metal and wood bats for each player\n",
    "metal_bip_per_batter = df_both[df_both['ama_bat_type'] == 'Metal'].groupby('batter_id')['ama_bip'].sum()\n",
    "wood_bip_per_batter = df_both[df_both['ama_bat_type'] == 'Wood'].groupby('batter_id')['ama_bip'].sum().add(df_both.groupby('batter_id')['pro_bip'].sum(), fill_value=0)\n",
    "\n",
    "# Define minimum BIP\n",
    "threshold = 50\n",
    "\n",
    "# Merging list of batter_id who satisfy both conditions\n",
    "batters_list = metal_bip_per_batter[metal_bip_per_batter >= threshold].index.intersection(wood_bip_per_batter[wood_bip_per_batter >= threshold].index).tolist()\n",
    "print(f\"Batters with at least {threshold} BIP: {len(batters_list)}\")\n",
    "\n",
    "# Returns True if all values are unique\n",
    "print(f\"All values unique: {len(batters_list) == len(set(batters_list))}\")\n",
    "\n",
    "# Filter dataset for \"qualified\" hitters\n",
    "df_qualified = df_both[df_both['batter_id'].isin(batters_list)]\n",
    "\n",
    "# Identify batters with null values in ama_hard_hit\n",
    "null_batters = df_qualified[df_qualified['ama_hard_hit'].isnull()]['batter_id'].unique()\n",
    "\n",
    "# Remove outliers using IQR\n",
    "Q1 = df_qualified['ama_hard_hit'].quantile(0.25)\n",
    "Q3 = df_qualified['ama_hard_hit'].quantile(0.75)\n",
    "IQR = Q3 - Q1\n",
    "lower_bound = Q1 - 1.5 * IQR\n",
    "upper_bound = Q3 + 1.5 * IQR\n",
    "\n",
    "# Identify batters with outliers in ama_hard_hit\n",
    "outlier_batters = df_qualified[(df_qualified['ama_hard_hit'] < lower_bound) | (df_qualified['ama_hard_hit'] > upper_bound)]['batter_id'].unique()\n",
    "\n",
    "# Combine the two sets of batter IDs to remove\n",
    "batters_to_remove = set(null_batters).union(outlier_batters)\n",
    "\n",
    "# Filter out these batters from df_qualified\n",
    "df_qualified = df_qualified[~df_qualified['batter_id'].isin(batters_to_remove)]\n",
    "\n",
    "print(f\"Number of batters after preprocessing: {df_qualified['batter_id'].nunique()}\")"
   ]
  },
  {
   "cell_type": "code",
   "execution_count": 7,
   "id": "48200ebe-3292-4231-880f-21eda62ce48c",
   "metadata": {
    "tags": []
   },
   "outputs": [
    {
     "data": {
      "text/plain": [
       "ama_bat_type\n",
       "Metal    2152\n",
       "Wood     1924\n",
       "Name: count, dtype: int64"
      ]
     },
     "execution_count": 7,
     "metadata": {},
     "output_type": "execute_result"
    }
   ],
   "source": [
    "df_qualified['ama_bat_type'].value_counts()"
   ]
  },
  {
   "cell_type": "markdown",
   "id": "c670acf2-f0b2-4b74-81fa-96408e78a6e0",
   "metadata": {},
   "source": [
    "Of the 2,152 batters with at least 50 BIP, 1,924 used wood bats in the CCL, and 228 used wood bats only in pro ball. To compare hard-hit rate differences between metal and wood bats, we will plot a histogram of hard-hit rate distributions for `ama_bat_type`."
   ]
  },
  {
   "cell_type": "code",
   "execution_count": 8,
   "id": "6b682505-9c6e-4ce1-b742-5076ae660a36",
   "metadata": {
    "tags": []
   },
   "outputs": [
    {
     "data": {
      "image/png": "[encoded data removed]",
      "text/plain": [
       "<Figure size 1000x600 with 1 Axes>"
      ]
     },
     "metadata": {},
     "output_type": "display_data"
    }
   ],
   "source": [
    "# Import plotting library\n",
    "import matplotlib.pyplot as plt\n",
    "\n",
    "# Split data by bat type\n",
    "metal_hh = df_qualified[df_qualified['ama_bat_type'] == 'Metal']['ama_hard_hit']\n",
    "wood_hh = df_qualified[df_qualified['ama_bat_type'] == 'Wood']['ama_hard_hit']\n",
    "\n",
    "# Plot histogram\n",
    "plt.figure(figsize=(10, 6))\n",
    "plt.hist(metal_hh.dropna(), bins=30, alpha=0.5, label='Metal') # drop missing values\n",
    "plt.hist(wood_hh.dropna(), bins=30, alpha=0.5, label='Wood') # drop missing values\n",
    "plt.xlabel(\"Hard-Hit Rate\")\n",
    "plt.ylabel(\"Number of Batters\")\n",
    "plt.title(\"Distribution of Hard-Hit Rates by Bat Type\")\n",
    "plt.legend(title=\"Bat Type\")\n",
    "plt.show()"
   ]
  },
  {
   "cell_type": "code",
   "execution_count": 9,
   "id": "7a261a64-7daa-4bbc-9f4d-8deaec805776",
   "metadata": {
    "tags": []
   },
   "outputs": [
    {
     "name": "stdout",
     "output_type": "stream",
     "text": [
      "         Metal Bat     Wood Bat\n",
      "count  2152.000000  1924.000000\n",
      "mean      0.300230     0.170195\n",
      "std       0.072932     0.060298\n",
      "min       0.074552     0.004474\n",
      "25%       0.250808     0.127893\n",
      "50%       0.300937     0.163035\n",
      "75%       0.350260     0.206739\n",
      "max       0.525017     0.504106\n"
     ]
    }
   ],
   "source": [
    "# Hard-hit rate summary statistics for each bat type\n",
    "summary_stats = pd.DataFrame({\n",
    "    'Metal Bat': metal_hh.describe(),\n",
    "    'Wood Bat': wood_hh.describe()\n",
    "})\n",
    "print(summary_stats)"
   ]
  },
  {
   "cell_type": "markdown",
   "id": "afbbae27-00ea-4ed0-91f6-e95e214ceec2",
   "metadata": {},
   "source": [
    "The summary statistics and histogram point to a distinct difference in hard-hit rates between metal and wood bats. On average, players achieve a higher hard-hit rate with metal bats with a mean rate of 0.30 compared to 0.17 for wood bats. The median values (0.30 for metal bats and 0.16 for wood) reinforce this difference, suggesting that metal bats may facilitate harder contact more easily than wood bats.\n",
    "\n",
    "Looking at the range and variability of hard-hit rates, metal bats show a more consistent pattern across players. Metal bat hard-hit rates range from 0.073 to 0.525, with a standard deviation of 0.073. In contrast, wood bats display a broader range, from as low as 0.004 to 0.504, though with a slightly smaller standard deviation of 0.060. The lower minimum, broader range, and lower standard deviation suggest that wood bats yield less variable results on average, but require increased bat-to-ball skills to generate power with a smaller, less forgiving sweet spot.  \n",
    "\n",
    "The percentile values provide further insight into the consistency gap between bat types. For metal bats, the 25th, 50th, and 75th percentiles are 0.25, 0.30, and 0.35, respectively, whereas for wood bats, these percentiles are considerably lower at 0.13, 0.16, and 0.21. This pattern suggests that even players who do not hit exceptionally well tend to see a boost in hard-hit rates with metal bats, while wood bats appear to accentuate performance differences, possibly penalizing less skilled hitters more."
   ]
  },
  {
   "cell_type": "markdown",
   "id": "72115978-862a-439c-ad41-b6859778309f",
   "metadata": {},
   "source": [
    "## Statistical Analysis\n",
    "\n",
    "We will perform a two-sample t-test to examine whether there is a statistically significant difference in the mean hard-hit rate between metal and wood bats. The data must satisfy the following assumptions:\n",
    "- **Normality**: From the above histograms, the distributions of hard-hit rates for each bat type appear approximately normal. Given the large sample sizes of each group, the Central Limit Theorem satisfies the normal distribution condition.\n",
    "- **Independence**: Each row represents a unique batter/season combination, so the observations in each group are independent.\n",
    "- **Equal Variance**: A two-sample t-test typically assumes equal variance between groups, but we will perform a Levene's test to assess variance equality and adjust the t-test accordingly."
   ]
  },
  {
   "cell_type": "code",
   "execution_count": 10,
   "id": "e3e3eded-0980-4201-9fcf-bcb7a33fa86d",
   "metadata": {
    "tags": []
   },
   "outputs": [
    {
     "name": "stdout",
     "output_type": "stream",
     "text": [
      "P-Value: 9.697299055119717e-21\n"
     ]
    }
   ],
   "source": [
    "from scipy.stats import ttest_ind, levene\n",
    "\n",
    "# Perform Levene's test to check equal variances\n",
    "levene_stat, p_value = levene(metal_hh, wood_hh)\n",
    "\n",
    "print(f\"P-Value: {p_value}\")"
   ]
  },
  {
   "cell_type": "markdown",
   "id": "ddea46f6-16f5-4df3-b3a3-9ca7c9e1975e",
   "metadata": {},
   "source": [
    "The Levene's Test reveals a p-value of virtually zero, indicating unequal variances. Therefore, we will proceed with a Welch's t-test."
   ]
  },
  {
   "cell_type": "code",
   "execution_count": 11,
   "id": "a8ba38f3-7a45-4996-bd7e-c759ec0bb0a6",
   "metadata": {
    "tags": []
   },
   "outputs": [
    {
     "name": "stdout",
     "output_type": "stream",
     "text": [
      "T-statistic: 62.26533839070797\n",
      "P-value: 0.0\n"
     ]
    }
   ],
   "source": [
    "# Welch's t-test\n",
    "t_stat, p_value = ttest_ind(metal_hh, wood_hh, equal_var=False)\n",
    "\n",
    "print(f\"T-statistic: {t_stat}\")\n",
    "print(f\"P-value: {p_value}\")"
   ]
  },
  {
   "cell_type": "markdown",
   "id": "1fa556e2-0ec6-4820-92e9-b962e69c4af0",
   "metadata": {},
   "source": [
    "The results of the t-test show overwhelming evidence that there is a difference in mean hard-hit rates, and we can conclude that there needs to be an adjustment to the data is necessary. Before doing this, we will first calculate the correlation between the amateur and professional hard-hit rates to establish a baseline.  "
   ]
  },
  {
   "cell_type": "code",
   "execution_count": 12,
   "id": "852ff7b4-f8e2-4a7f-8f5f-c7b1f60f2801",
   "metadata": {
    "tags": []
   },
   "outputs": [
    {
     "name": "stdout",
     "output_type": "stream",
     "text": [
      "Baseline Correlation: 0.35936618062596065\n"
     ]
    }
   ],
   "source": [
    "# Calculate correlation between amateur and pro hard-hit rates\n",
    "cor = df_qualified[['ama_hard_hit', 'pro_hard_hit']].corr().iloc[0,1]\n",
    "print(f\"Baseline Correlation: {cor}\")"
   ]
  },
  {
   "cell_type": "markdown",
   "id": "a8db1ef4-84b7-48c4-a62e-b47db584f63e",
   "metadata": {},
   "source": [
    "## Adjustment Methods\n",
    "\n",
    "### Scaling Factor\n",
    "The first adjustment we can make to the wood and metal bat data is applying a scaling factor to account for the observed difference in mean hard-hit rates. Since metal bats generally produce higher hard-hit rates, the aim is to scale these rates to a level more representative of wood bat performance. This scaling factor will be calculated by dividing the mean hard-hit rate with metal bats by the mean hard-hit rate with wood bats.  "
   ]
  },
  {
   "cell_type": "code",
   "execution_count": 13,
   "id": "c05a4b96-465f-4ead-9a87-cae9d976ef7f",
   "metadata": {
    "tags": []
   },
   "outputs": [],
   "source": [
    "# Calculate scaling factor\n",
    "scaling_factor = metal_hh.mean() / wood_hh.mean()\n",
    "\n",
    "# Apply to dataset to create new adjusted column\n",
    "df_qualified['adj_scaling_ama_hard_hit'] = df_qualified.apply(lambda x: x['ama_hard_hit'] / scaling_factor if x['ama_bat_type'] == 'Metal' else x['ama_hard_hit'], axis=1)"
   ]
  },
  {
   "cell_type": "markdown",
   "id": "dbc0df36-1deb-4e67-833b-f1406cd9c273",
   "metadata": {},
   "source": [
    "A new column `adj_scaling_ama_hard_hit` represents the hard-hit rates after scaling the hard-hit rates with metal bats. As seen in the histograms below, the distribution of the adjusted metal hard-hit rates are more similar to the distribution of hard-hit rates with wood bats. "
   ]
  },
  {
   "cell_type": "code",
   "execution_count": 14,
   "id": "ef1dbf57-0a7b-4168-b04d-654e15a8f51e",
   "metadata": {
    "tags": []
   },
   "outputs": [
    {
     "data": {
      "image/png": "[encoded data removed]",
      "text/plain": [
       "<Figure size 1000x600 with 1 Axes>"
      ]
     },
     "metadata": {},
     "output_type": "display_data"
    }
   ],
   "source": [
    "# Isolate adjusted hard-hit rate\n",
    "adj_scaling = df_qualified[df_qualified['ama_bat_type'] == 'Metal']['adj_scaling_ama_hard_hit']\n",
    "\n",
    "# Plot distribution of adjusted hard-hit rates and wood-bat hard hit rate\n",
    "plt.figure(figsize=(10, 6))\n",
    "plt.hist(adj_scaling.dropna(), bins=30, alpha=0.5, label='Adjusted Metal') # drop missing values\n",
    "plt.hist(wood_hh.dropna(), bins=30, alpha=0.5, label='Wood') # drop missing values\n",
    "plt.xlabel(\"Hard-Hit Rate\")\n",
    "plt.ylabel(\"Number of Batters\")\n",
    "plt.title(\"Distribution of Scaling-Adjusted Hard-Hit Rates\")\n",
    "plt.legend()\n",
    "plt.show()"
   ]
  },
  {
   "cell_type": "markdown",
   "id": "a333e3b8-5e90-4a61-a3bf-2a1e6a8fa6fa",
   "metadata": {},
   "source": [
    "We will analyze the effectiveness of this adjustment by seeing if it improves the correlation between amateur and pro hard-hit rates. "
   ]
  },
  {
   "cell_type": "code",
   "execution_count": 15,
   "id": "0d542fa7-1579-4cf7-8ba5-86fbe81432d7",
   "metadata": {
    "tags": []
   },
   "outputs": [
    {
     "name": "stdout",
     "output_type": "stream",
     "text": [
      "Scaling Factor Adjusted Correlation: 0.5026216481745968\n",
      "Difference from Original Correlation: 0.1432554675486361\n"
     ]
    }
   ],
   "source": [
    "# Calculate correlation between pro hard-hit rates and scaling-adjusted amateur hard-hit rates\n",
    "adj_scaling_cor = df_qualified[['adj_scaling_ama_hard_hit', 'pro_hard_hit']].corr().iloc[0,1]\n",
    "print(f\"Scaling Factor Adjusted Correlation: {adj_scaling_cor}\")\n",
    "print(f\"Difference from Original Correlation: {adj_scaling_cor - cor}\")"
   ]
  },
  {
   "cell_type": "markdown",
   "id": "cbe27b28-cf40-423f-b4af-8740c4f81e93",
   "metadata": {},
   "source": [
    "Scaling the metal bat hard-hit rates using the factor derived from their mean difference enhanced the correlation by approximately 0.14. While this is a notable improvement, we will try other adjustment methods to see if we can further improve this correlation. \n",
    "\n",
    "### Regression \n",
    "A regression-based adjustment applies a linear regression model to account for the impact of bat type on amateur hard-hit rates, aiming to create a closer alignment with professional hard-hit rates. This approach begins by encoding bat type as a binary variable – 1 to metal bats and 0 to wood bats. Next, we fit a linear regression model with amateur hard-hit rate and bat type as predictor variables and professional hard-hit rate as the target. Through this, the model learns the influence of amateur hard-hit rates on professional performance, taking into account the effect of bat type. Once trained, the model generates \"professional-equivalent\" predictions for amateur hard-hit rates, hopefully making amateur data more directly comparable to professional data."
   ]
  },
  {
   "cell_type": "code",
   "execution_count": 16,
   "id": "41a69bad-4d26-4293-bde9-076328cf2851",
   "metadata": {
    "tags": []
   },
   "outputs": [
    {
     "name": "stdout",
     "output_type": "stream",
     "text": [
      "                            OLS Regression Results                            \n",
      "==============================================================================\n",
      "Dep. Variable:           pro_hard_hit   R-squared:                       0.287\n",
      "Model:                            OLS   Adj. R-squared:                  0.286\n",
      "Method:                 Least Squares   F-statistic:                     336.7\n",
      "Date:                Wed, 30 Oct 2024   Prob (F-statistic):          1.31e-123\n",
      "Time:                        15:46:22   Log-Likelihood:                 2696.8\n",
      "No. Observations:                1676   AIC:                            -5388.\n",
      "Df Residuals:                    1673   BIC:                            -5371.\n",
      "Df Model:                           2                                         \n",
      "Covariance Type:            nonrobust                                         \n",
      "================================================================================\n",
      "                   coef    std err          t      P>|t|      [0.025      0.975]\n",
      "--------------------------------------------------------------------------------\n",
      "const            0.1720      0.004     48.655      0.000       0.165       0.179\n",
      "ama_hard_hit     0.4516      0.017     25.923      0.000       0.417       0.486\n",
      "bat_type        -0.0654      0.003    -19.244      0.000      -0.072      -0.059\n",
      "==============================================================================\n",
      "Omnibus:                       12.856   Durbin-Watson:                   1.943\n",
      "Prob(Omnibus):                  0.002   Jarque-Bera (JB):               14.756\n",
      "Skew:                          -0.144   Prob(JB):                     0.000625\n",
      "Kurtosis:                       3.358   Cond. No.                         18.2\n",
      "==============================================================================\n",
      "\n",
      "Notes:\n",
      "[1] Standard Errors assume that the covariance matrix of the errors is correctly specified.\n"
     ]
    }
   ],
   "source": [
    "# Create binary variable for bat type\n",
    "df_qualified['bat_type'] = df_qualified['ama_bat_type'].apply(lambda x: 1 if x == 'Metal' else 0)\n",
    "\n",
    "# Import linear regression library\n",
    "import statsmodels.api as sm\n",
    "\n",
    "# Initialize and fit Linear Regression model\n",
    "regression_data = df_qualified[['ama_hard_hit', 'bat_type', 'pro_hard_hit']].dropna()\n",
    "\n",
    "# Add a constant to the predictor variables to include an intercept\n",
    "X = sm.add_constant(regression_data[['ama_hard_hit', 'bat_type']])\n",
    "y = regression_data['pro_hard_hit']\n",
    "\n",
    "# Fit the model using statsmodels' OLS (Ordinary Least Squares) method\n",
    "model = sm.OLS(y, X).fit()\n",
    "\n",
    "# Print the summary output\n",
    "print(model.summary())"
   ]
  },
  {
   "cell_type": "markdown",
   "id": "ef2e6c3b-f80d-4ff4-ac40-0d61464fda32",
   "metadata": {},
   "source": [
    "The model indicates that amateur hard-hit rate is a strong predictor of professional hard-hit performance, with higher amateur rates correlating positively with higher professional rates. The bat type variable reveals that players using metal bats tend to experience a reduction in professional hard-hit rate, likely due to performance differences when transitioning from metal to wood bats. \n",
    "\n",
    "We can create regression-adjusted values for amateur hard-hit rates by using the model's regression equation. We will then plot the distribution of these values compared to the wood-bat values before calculating their correlation with pro hard-hit rates."
   ]
  },
  {
   "cell_type": "code",
   "execution_count": 17,
   "id": "1f85f826-f22e-4359-b89a-75016ba9c26a",
   "metadata": {
    "tags": []
   },
   "outputs": [
    {
     "data": {
      "image/png": "[encoded data removed]",
      "text/plain": [
       "<Figure size 1000x600 with 1 Axes>"
      ]
     },
     "metadata": {},
     "output_type": "display_data"
    }
   ],
   "source": [
    "# Calculate regression-adjusted values for amateur hard-hit rates\n",
    "df_qualified['adj_regression_ama_hard_hit'] = model.params[0] + (model.params[1]*df_qualified['ama_hard_hit']) + (model.params[2]*df_qualified['bat_type'])\n",
    "\n",
    "# Isolate adjusted hard-hit rate\n",
    "adj_regression = df_qualified['adj_regression_ama_hard_hit']\n",
    "\n",
    "# Plot distribution of adjusted hard-hit rates and wood-bat hard hit rate\n",
    "plt.figure(figsize=(10, 6))\n",
    "plt.hist(adj_regression.dropna(), bins=30, alpha=0.5, label='Adjusted') # drop missing values\n",
    "plt.hist(wood_hh.dropna(), bins=30, alpha=0.5, label='Wood') # drop missing values\n",
    "plt.xlabel('Hard-Hit Rate')\n",
    "plt.ylabel('Number of Batters')\n",
    "plt.title('Distribution of Regression-Adjusted Hard-Hit Rates')\n",
    "plt.legend()\n",
    "plt.show()"
   ]
  },
  {
   "cell_type": "code",
   "execution_count": 18,
   "id": "b7f433b9-5455-4104-ac81-a3c79b44c213",
   "metadata": {
    "tags": []
   },
   "outputs": [
    {
     "name": "stdout",
     "output_type": "stream",
     "text": [
      "Regression Adjusted Correlation: 0.5357071379916906\n",
      "Difference from Original Correlation: 0.1763409573657299\n"
     ]
    }
   ],
   "source": [
    "# Calculate correlation betweem regression-adjusted amateur hard-hit rates and pro hard-hit rates\n",
    "adj_regression_cor = df_qualified[['adj_regression_ama_hard_hit', 'pro_hard_hit']].corr().iloc[0,1]\n",
    "print(f\"Regression Adjusted Correlation: {adj_regression_cor}\")\n",
    "print(f\"Difference from Original Correlation: {adj_regression_cor - cor}\")"
   ]
  },
  {
   "cell_type": "markdown",
   "id": "d0e1690a-6049-4d57-958b-0ecf12cb9dbd",
   "metadata": {},
   "source": [
    "Interestingly, the distribution of the regression-adjusted rates doesn't have as much overlap with the distribution of the wood-bat rates as the scaled rates. The correlation to pro hard-hit rates (~0.54), however, is stronger by several points, suggesting the regression-based adjustment is more effective in making the metal and wood bat more directly comparable. \n",
    "\n",
    "### Z-Score Normalization\n",
    "\n",
    "This normalization approach will be used to standardize amateur hard-hit rates for players using metal and wood bats, ideally making the two sets directly comparable. This adjustment is particularly beneficial since the two groups have different means and variances, as it removes these differences by converting each data point into a standardized score. The core assumption behind Z-score normalization is that relative performance within each group (metal vs. wood) is more important than absolute values, meaning that players’ hard-hit rates can be compared based on their standing within their respective bat-type group.\n",
    "\n",
    "To calculate z-score normalization, each player’s amateur hard-hit rate is subtracted by the mean and then divided by the standard deviation of their bat type group, resulting in a standardized hard-hit rate centered around zero with a standard deviation of one for each bat type."
   ]
  },
  {
   "cell_type": "code",
   "execution_count": 19,
   "id": "90f87400-6c64-4ebe-9f92-f3ba4c357b65",
   "metadata": {
    "tags": []
   },
   "outputs": [
    {
     "data": {
      "image/png": "[encoded data removed]",
      "text/plain": [
       "<Figure size 1000x600 with 1 Axes>"
      ]
     },
     "metadata": {},
     "output_type": "display_data"
    }
   ],
   "source": [
    "# Calculate mean and standard deviation for each bat type\n",
    "metal_mean = df_qualified[df_qualified['bat_type'] == 1]['ama_hard_hit'].mean()\n",
    "metal_std = df_qualified[df_qualified['bat_type'] == 1]['ama_hard_hit'].std()\n",
    "\n",
    "wood_mean = df_qualified[df_qualified['bat_type'] == 0]['ama_hard_hit'].mean()\n",
    "wood_std = df_qualified[df_qualified['bat_type'] == 0]['ama_hard_hit'].std()\n",
    "\n",
    "# Apply Z-score normalization based on bat type\n",
    "df_qualified['adj_zscore_ama_hard_hit'] = df_qualified.apply(lambda x: (x['ama_hard_hit'] - metal_mean) / metal_std if x['bat_type'] == 1 else (x['ama_hard_hit'] - wood_mean) / wood_std, axis=1)\n",
    "\n",
    "# Isolate z-score-adjusted hard-hit rate\n",
    "adj_zscore = df_qualified['adj_zscore_ama_hard_hit']\n",
    "\n",
    "# Plot distribution of adjusted hard-hit rates and wood-bat hard hit rate\n",
    "plt.figure(figsize=(10, 6))\n",
    "plt.hist(adj_zscore.dropna(), bins=30, alpha=0.5, label='Z-Score') # drop missing values\n",
    "plt.ylabel(\"Number of Batters\")\n",
    "plt.title(\"Distribution of Z-Score-Adjusted Hard-Hit Rates\")\n",
    "plt.legend()\n",
    "plt.show()"
   ]
  },
  {
   "cell_type": "code",
   "execution_count": 20,
   "id": "8dfd13df-3482-4388-aaf8-c460b678e5fa",
   "metadata": {
    "tags": []
   },
   "outputs": [
    {
     "name": "stdout",
     "output_type": "stream",
     "text": [
      "Z-Score Adjusted Correlation: 0.5269962577960644\n",
      "Difference from Original Correlation: 0.16763007717010375\n"
     ]
    }
   ],
   "source": [
    "# Standardize pro_hard_hit across to compare to amateur z-scores\n",
    "pro_mean = df_qualified['pro_hard_hit'].mean()\n",
    "pro_std = df_qualified['pro_hard_hit'].std()\n",
    "df_qualified['pro_hard_hit_z'] = (df_qualified['pro_hard_hit'] - pro_mean) / pro_std\n",
    "\n",
    "# Calculate correlation betweem z-score-adjusted amateur hard-hit rates and pro hard-hit rates\n",
    "adj_zscore_cor = df_qualified[['adj_zscore_ama_hard_hit', 'pro_hard_hit_z']].corr().iloc[0,1]\n",
    "print(f\"Z-Score Adjusted Correlation: {adj_zscore_cor}\")\n",
    "print(f\"Difference from Original Correlation: {adj_zscore_cor - cor}\")"
   ]
  },
  {
   "cell_type": "markdown",
   "id": "386838c3-62b1-4121-b5da-54e082d2c2c6",
   "metadata": {},
   "source": [
    "Looking at the distribution of z-scores, it appears to appropriately standardize the values for each bat type. In order to calculate its correlation to pro hard-hit rate, we need to standardize these values as well. After computing the z-scores for `pro_hard_hit`, we see that the correlation is better than the baseline, but sligtly lower than the regression-based method. \n",
    "\n",
    "## Final Thoughts\n",
    "\n",
    "In this analysis, we explored scaling, regression, and z-score normalization adjustments to make amateur hard-hit rates from metal and wood bats comparable. Below are the final correlations between the adjusted amateur hard-hit rates and pro hard-hit rates, along with the unadjusted correlation for comparison:"
   ]
  },
  {
   "cell_type": "code",
   "execution_count": 21,
   "id": "d53494c2-6ba6-4b09-9e2e-10d9afad5de1",
   "metadata": {
    "tags": []
   },
   "outputs": [
    {
     "name": "stdout",
     "output_type": "stream",
     "text": [
      "Baseline Correlation: 0.36\n",
      "Scaling Factor Adjusted Correlation: 0.5\n",
      "Regression Adjusted Correlation: 0.54\n",
      "Z-Score Adjusted Correlation: 0.53\n"
     ]
    }
   ],
   "source": [
    "print(f\"Baseline Correlation: {cor.round(2)}\")\n",
    "print(f\"Scaling Factor Adjusted Correlation: {adj_scaling_cor.round(2)}\")\n",
    "print(f\"Regression Adjusted Correlation: {adj_regression_cor.round(2)}\")\n",
    "print(f\"Z-Score Adjusted Correlation: {adj_zscore_cor.round(2)}\")"
   ]
  },
  {
   "cell_type": "markdown",
   "id": "539cc803-7dbf-4fbb-9173-6bf43bf7e885",
   "metadata": {},
   "source": [
    "Each method showed varying degrees of effectiveness, with regression achieving the highest correlation to professional hard-hit rates. This suggests a stronger alignment when modeling the amateur-to-pro transition with regression adjustments, making it an ideal candidate for adjusting amateur data for draft evaluations. Additional features contributing to hard-hit balls, such as bat speed or barrel accuracy, could be included in the regression model to improve its accuracy and correlation to pro-ball data. \n",
    "\n",
    "However, if simplicity and interpretability are prioritized, scaling remains effective for improving correlations and standardizing amateur hard-hit rates. Rather than creating a scaling factor based on the mean difference in hard-hit rates, the difference in coefficient of restitution or another more scientific measurement may provide a more accurate and comparable values. Integrating these adjustments into the draft model will offer a more accurate and robust prediction of amateur players' professional performance potential.\n",
    "\n",
    "This comprehensive approach provides a foundation for integrating bat type adjustments into player evaluations, supporting more data-driven decision-making in amateur scouting."
   ]
  }
 ],
 "metadata": {
  "kernelspec": {
   "display_name": "Python 3 (ipykernel)",
   "language": "python",
   "name": "python3"
  },
  "language_info": {
   "codemirror_mode": {
    "name": "ipython",
    "version": 3
   },
   "file_extension": ".py",
   "mimetype": "text/x-python",
   "name": "python",
   "nbconvert_exporter": "python",
   "pygments_lexer": "ipython3",
   "version": "3.11.5"
  }
 },
 "nbformat": 4,
 "nbformat_minor": 5
}
